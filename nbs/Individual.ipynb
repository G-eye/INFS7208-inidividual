{
 "cells": [
  {
   "cell_type": "markdown",
   "metadata": {},
   "source": [
    "# Import data stored in hdfs distributed file system"
   ]
  },
  {
   "cell_type": "code",
   "execution_count": 1,
   "metadata": {},
   "outputs": [
    {
     "name": "stdout",
     "output_type": "stream",
     "text": [
      "success\n"
     ]
    }
   ],
   "source": [
    "from pyspark.sql import SparkSession\n",
    "from pyspark.sql import Row\n",
    "import matplotlib.pyplot as plt\n",
    "import pandas as pd\n",
    "\n",
    "spark = SparkSession \\\n",
    "    .builder \\\n",
    "    .appName(\"Python Spark SQL basic example\") \\\n",
    "    .config(\"spark.some.config.option\", \"some-value\") \\\n",
    "    .getOrCreate()\n",
    "sc = spark.sparkContext\n",
    "\n",
    "data = spark.read.csv(\"hdfs://namenode/Crashes_Last_Five_Years.csv\", header = True, inferSchema = True)\n",
    "\n",
    "print(\"success\")"
   ]
  },
  {
   "cell_type": "markdown",
   "metadata": {},
   "source": [
    "# Clean relevent null data"
   ]
  },
  {
   "cell_type": "code",
   "execution_count": 2,
   "metadata": {},
   "outputs": [
    {
     "name": "stdout",
     "output_type": "stream",
     "text": [
      "success\n"
     ]
    }
   ],
   "source": [
    "# clean null data\n",
    "data = data[data.DAY_OF_WEEK != 'null']\n",
    "data = data[data.SEVERITY != 'null']\n",
    "data = data[data.ACCIDENT_DATE != 'null']\n",
    "data = data[data.NODE_TYPE != 'Unknown']\n",
    "data = data[data.ROAD_GEOMETRY != 'Unknown']\n",
    "data = data[data.SPEED_ZONE != 'Not known']\n",
    "\n",
    "print(\"success\")"
   ]
  },
  {
   "cell_type": "code",
   "execution_count": 3,
   "metadata": {},
   "outputs": [
    {
     "name": "stdout",
     "output_type": "stream",
     "text": [
      "success\n"
     ]
    }
   ],
   "source": [
    "# generate view for following queries\n",
    "data.createOrReplaceTempView(\"data\")\n",
    "print(\"success\")"
   ]
  },
  {
   "cell_type": "markdown",
   "metadata": {},
   "source": [
    "# Clean abnormal data and outliers"
   ]
  },
  {
   "cell_type": "code",
   "execution_count": 4,
   "metadata": {},
   "outputs": [
    {
     "data": {
      "text/html": [
       "<div>\n",
       "<style scoped>\n",
       "    .dataframe tbody tr th:only-of-type {\n",
       "        vertical-align: middle;\n",
       "    }\n",
       "\n",
       "    .dataframe tbody tr th {\n",
       "        vertical-align: top;\n",
       "    }\n",
       "\n",
       "    .dataframe thead th {\n",
       "        text-align: right;\n",
       "    }\n",
       "</style>\n",
       "<table border=\"1\" class=\"dataframe\">\n",
       "  <thead>\n",
       "    <tr style=\"text-align: right;\">\n",
       "      <th></th>\n",
       "      <th>UNLICENCSED</th>\n",
       "      <th>count</th>\n",
       "    </tr>\n",
       "  </thead>\n",
       "  <tbody>\n",
       "    <tr>\n",
       "      <th>0</th>\n",
       "      <td>1</td>\n",
       "      <td>2338</td>\n",
       "    </tr>\n",
       "    <tr>\n",
       "      <th>1</th>\n",
       "      <td>2</td>\n",
       "      <td>12</td>\n",
       "    </tr>\n",
       "    <tr>\n",
       "      <th>2</th>\n",
       "      <td>0</td>\n",
       "      <td>66702</td>\n",
       "    </tr>\n",
       "  </tbody>\n",
       "</table>\n",
       "</div>"
      ],
      "text/plain": [
       "   UNLICENCSED  count\n",
       "0            1   2338\n",
       "1            2     12\n",
       "2            0  66702"
      ]
     },
     "execution_count": 4,
     "metadata": {},
     "output_type": "execute_result"
    }
   ],
   "source": [
    "data.groupby('UNLICENCSED').count().toPandas()"
   ]
  },
  {
   "cell_type": "code",
   "execution_count": 5,
   "metadata": {},
   "outputs": [
    {
     "data": {
      "text/html": [
       "<div>\n",
       "<style scoped>\n",
       "    .dataframe tbody tr th:only-of-type {\n",
       "        vertical-align: middle;\n",
       "    }\n",
       "\n",
       "    .dataframe tbody tr th {\n",
       "        vertical-align: top;\n",
       "    }\n",
       "\n",
       "    .dataframe thead th {\n",
       "        text-align: right;\n",
       "    }\n",
       "</style>\n",
       "<table border=\"1\" class=\"dataframe\">\n",
       "  <thead>\n",
       "    <tr style=\"text-align: right;\">\n",
       "      <th></th>\n",
       "      <th>UNLICENCSED</th>\n",
       "      <th>count</th>\n",
       "    </tr>\n",
       "  </thead>\n",
       "  <tbody>\n",
       "    <tr>\n",
       "      <th>0</th>\n",
       "      <td>1</td>\n",
       "      <td>2338</td>\n",
       "    </tr>\n",
       "    <tr>\n",
       "      <th>1</th>\n",
       "      <td>0</td>\n",
       "      <td>66702</td>\n",
       "    </tr>\n",
       "  </tbody>\n",
       "</table>\n",
       "</div>"
      ],
      "text/plain": [
       "   UNLICENCSED  count\n",
       "0            1   2338\n",
       "1            0  66702"
      ]
     },
     "execution_count": 5,
     "metadata": {},
     "output_type": "execute_result"
    }
   ],
   "source": [
    "# Because of unlicensed valid value is only 0 (no) and 1 (yes)\n",
    "# Delete 12 pieces of abnormal data with unlicensed = 2\n",
    "data = spark.sql(\"select * from data where UNLICENCSED between 0 and 1\")\n",
    "data.groupby('UNLICENCSED').count().toPandas()"
   ]
  },
  {
   "cell_type": "code",
   "execution_count": 6,
   "metadata": {},
   "outputs": [
    {
     "data": {
      "text/html": [
       "<div>\n",
       "<style scoped>\n",
       "    .dataframe tbody tr th:only-of-type {\n",
       "        vertical-align: middle;\n",
       "    }\n",
       "\n",
       "    .dataframe tbody tr th {\n",
       "        vertical-align: top;\n",
       "    }\n",
       "\n",
       "    .dataframe thead th {\n",
       "        text-align: right;\n",
       "    }\n",
       "</style>\n",
       "<table border=\"1\" class=\"dataframe\">\n",
       "  <thead>\n",
       "    <tr style=\"text-align: right;\">\n",
       "      <th></th>\n",
       "      <th>UNLICENCSED</th>\n",
       "      <th>count</th>\n",
       "    </tr>\n",
       "  </thead>\n",
       "  <tbody>\n",
       "    <tr>\n",
       "      <th>0</th>\n",
       "      <td>0</td>\n",
       "      <td>66702</td>\n",
       "    </tr>\n",
       "  </tbody>\n",
       "</table>\n",
       "</div>"
      ],
      "text/plain": [
       "   UNLICENCSED  count\n",
       "0            0  66702"
      ]
     },
     "execution_count": 6,
     "metadata": {},
     "output_type": "execute_result"
    }
   ],
   "source": [
    "# Regarding those without a driver’s license as outliers\n",
    "# there is no guarantee that they are well capable of driving\n",
    "data = spark.sql(\"select * from data where UNLICENCSED = 0\")\n",
    "data.groupby('UNLICENCSED').count().toPandas()"
   ]
  },
  {
   "cell_type": "markdown",
   "metadata": {},
   "source": [
    "# Show features of processed data view"
   ]
  },
  {
   "cell_type": "code",
   "execution_count": 7,
   "metadata": {},
   "outputs": [
    {
     "data": {
      "text/html": [
       "<div>\n",
       "<style scoped>\n",
       "    .dataframe tbody tr th:only-of-type {\n",
       "        vertical-align: middle;\n",
       "    }\n",
       "\n",
       "    .dataframe tbody tr th {\n",
       "        vertical-align: top;\n",
       "    }\n",
       "\n",
       "    .dataframe thead th {\n",
       "        text-align: right;\n",
       "    }\n",
       "</style>\n",
       "<table border=\"1\" class=\"dataframe\">\n",
       "  <thead>\n",
       "    <tr style=\"text-align: right;\">\n",
       "      <th></th>\n",
       "      <th>0</th>\n",
       "      <th>1</th>\n",
       "      <th>2</th>\n",
       "      <th>3</th>\n",
       "      <th>4</th>\n",
       "    </tr>\n",
       "  </thead>\n",
       "  <tbody>\n",
       "    <tr>\n",
       "      <th>OBJECTID</th>\n",
       "      <td>3401744</td>\n",
       "      <td>3401745</td>\n",
       "      <td>3401746</td>\n",
       "      <td>3401747</td>\n",
       "      <td>3401748</td>\n",
       "    </tr>\n",
       "    <tr>\n",
       "      <th>ACCIDENT_NO</th>\n",
       "      <td>T20130013732</td>\n",
       "      <td>T20130013736</td>\n",
       "      <td>T20130013737</td>\n",
       "      <td>T20130013738</td>\n",
       "      <td>T20130013739</td>\n",
       "    </tr>\n",
       "    <tr>\n",
       "      <th>ABS_CODE</th>\n",
       "      <td>ABS to receive accident</td>\n",
       "      <td>ABS to receive accident</td>\n",
       "      <td>ABS to receive accident</td>\n",
       "      <td>ABS to receive accident</td>\n",
       "      <td>ABS to receive accident</td>\n",
       "    </tr>\n",
       "    <tr>\n",
       "      <th>ACCIDENT_STATUS</th>\n",
       "      <td>Finished</td>\n",
       "      <td>Finished</td>\n",
       "      <td>Finished</td>\n",
       "      <td>Finished</td>\n",
       "      <td>Finished</td>\n",
       "    </tr>\n",
       "    <tr>\n",
       "      <th>ACCIDENT_DATE</th>\n",
       "      <td>1/7/2013</td>\n",
       "      <td>2/7/2013</td>\n",
       "      <td>2/7/2013</td>\n",
       "      <td>2/7/2013</td>\n",
       "      <td>2/7/2013</td>\n",
       "    </tr>\n",
       "    <tr>\n",
       "      <th>...</th>\n",
       "      <td>...</td>\n",
       "      <td>...</td>\n",
       "      <td>...</td>\n",
       "      <td>...</td>\n",
       "      <td>...</td>\n",
       "    </tr>\n",
       "    <tr>\n",
       "      <th>RMA</th>\n",
       "      <td>Local Road</td>\n",
       "      <td>Arterial Other</td>\n",
       "      <td>Local Road</td>\n",
       "      <td>Freeway</td>\n",
       "      <td>Local Road</td>\n",
       "    </tr>\n",
       "    <tr>\n",
       "      <th>RMA_ALL</th>\n",
       "      <td>Local Road</td>\n",
       "      <td>Arterial Other,Local Road</td>\n",
       "      <td>Local Road</td>\n",
       "      <td>Freeway</td>\n",
       "      <td>Local Road</td>\n",
       "    </tr>\n",
       "    <tr>\n",
       "      <th>DIVIDED</th>\n",
       "      <td>Undivided</td>\n",
       "      <td>Divided</td>\n",
       "      <td>Undivided</td>\n",
       "      <td>Divided</td>\n",
       "      <td>Undivided</td>\n",
       "    </tr>\n",
       "    <tr>\n",
       "      <th>DIVIDED_ALL</th>\n",
       "      <td>Undiv</td>\n",
       "      <td>Div,Undiv</td>\n",
       "      <td>Undiv</td>\n",
       "      <td>Div</td>\n",
       "      <td>Undiv</td>\n",
       "    </tr>\n",
       "    <tr>\n",
       "      <th>STAT_DIV_NAME</th>\n",
       "      <td>Metro</td>\n",
       "      <td>Metro</td>\n",
       "      <td>Metro</td>\n",
       "      <td>Country</td>\n",
       "      <td>Metro</td>\n",
       "    </tr>\n",
       "  </tbody>\n",
       "</table>\n",
       "<p>63 rows × 5 columns</p>\n",
       "</div>"
      ],
      "text/plain": [
       "                                       0                          1  \\\n",
       "OBJECTID                         3401744                    3401745   \n",
       "ACCIDENT_NO                 T20130013732               T20130013736   \n",
       "ABS_CODE         ABS to receive accident    ABS to receive accident   \n",
       "ACCIDENT_STATUS                 Finished                   Finished   \n",
       "ACCIDENT_DATE                   1/7/2013                   2/7/2013   \n",
       "...                                  ...                        ...   \n",
       "RMA                           Local Road             Arterial Other   \n",
       "RMA_ALL                       Local Road  Arterial Other,Local Road   \n",
       "DIVIDED                        Undivided                    Divided   \n",
       "DIVIDED_ALL                        Undiv                  Div,Undiv   \n",
       "STAT_DIV_NAME                      Metro                      Metro   \n",
       "\n",
       "                                       2                        3  \\\n",
       "OBJECTID                         3401746                  3401747   \n",
       "ACCIDENT_NO                 T20130013737             T20130013738   \n",
       "ABS_CODE         ABS to receive accident  ABS to receive accident   \n",
       "ACCIDENT_STATUS                 Finished                 Finished   \n",
       "ACCIDENT_DATE                   2/7/2013                 2/7/2013   \n",
       "...                                  ...                      ...   \n",
       "RMA                           Local Road                  Freeway   \n",
       "RMA_ALL                       Local Road                  Freeway   \n",
       "DIVIDED                        Undivided                  Divided   \n",
       "DIVIDED_ALL                        Undiv                      Div   \n",
       "STAT_DIV_NAME                      Metro                  Country   \n",
       "\n",
       "                                       4  \n",
       "OBJECTID                         3401748  \n",
       "ACCIDENT_NO                 T20130013739  \n",
       "ABS_CODE         ABS to receive accident  \n",
       "ACCIDENT_STATUS                 Finished  \n",
       "ACCIDENT_DATE                   2/7/2013  \n",
       "...                                  ...  \n",
       "RMA                           Local Road  \n",
       "RMA_ALL                       Local Road  \n",
       "DIVIDED                        Undivided  \n",
       "DIVIDED_ALL                        Undiv  \n",
       "STAT_DIV_NAME                      Metro  \n",
       "\n",
       "[63 rows x 5 columns]"
      ]
     },
     "execution_count": 7,
     "metadata": {},
     "output_type": "execute_result"
    }
   ],
   "source": [
    "# show the first 5 lines of dataset to see that if data is successfully loaded\n",
    "pd.DataFrame(data.take(5), columns = data.columns).transpose()"
   ]
  },
  {
   "cell_type": "code",
   "execution_count": 8,
   "metadata": {},
   "outputs": [
    {
     "data": {
      "text/html": [
       "<div>\n",
       "<style scoped>\n",
       "    .dataframe tbody tr th:only-of-type {\n",
       "        vertical-align: middle;\n",
       "    }\n",
       "\n",
       "    .dataframe tbody tr th {\n",
       "        vertical-align: top;\n",
       "    }\n",
       "\n",
       "    .dataframe thead th {\n",
       "        text-align: right;\n",
       "    }\n",
       "</style>\n",
       "<table border=\"1\" class=\"dataframe\">\n",
       "  <thead>\n",
       "    <tr style=\"text-align: right;\">\n",
       "      <th></th>\n",
       "      <th>0</th>\n",
       "      <th>1</th>\n",
       "      <th>2</th>\n",
       "      <th>3</th>\n",
       "      <th>4</th>\n",
       "    </tr>\n",
       "  </thead>\n",
       "  <tbody>\n",
       "    <tr>\n",
       "      <th>summary</th>\n",
       "      <td>count</td>\n",
       "      <td>mean</td>\n",
       "      <td>stddev</td>\n",
       "      <td>min</td>\n",
       "      <td>max</td>\n",
       "    </tr>\n",
       "    <tr>\n",
       "      <th>OBJECTID</th>\n",
       "      <td>66702</td>\n",
       "      <td>3438996.8031993043</td>\n",
       "      <td>21684.155329872086</td>\n",
       "      <td>3401744</td>\n",
       "      <td>3476651</td>\n",
       "    </tr>\n",
       "    <tr>\n",
       "      <th>NODE_ID</th>\n",
       "      <td>66702</td>\n",
       "      <td>202288.44069143353</td>\n",
       "      <td>125959.62425479155</td>\n",
       "      <td>4</td>\n",
       "      <td>343479</td>\n",
       "    </tr>\n",
       "    <tr>\n",
       "      <th>TOTAL_PERSONS</th>\n",
       "      <td>66702</td>\n",
       "      <td>2.414035561152589</td>\n",
       "      <td>1.5665646569261693</td>\n",
       "      <td>1</td>\n",
       "      <td>97</td>\n",
       "    </tr>\n",
       "    <tr>\n",
       "      <th>INJ_OR_FATAL</th>\n",
       "      <td>66702</td>\n",
       "      <td>1.2725255614524302</td>\n",
       "      <td>0.7066139780333256</td>\n",
       "      <td>0</td>\n",
       "      <td>23</td>\n",
       "    </tr>\n",
       "    <tr>\n",
       "      <th>FATALITY</th>\n",
       "      <td>66702</td>\n",
       "      <td>0.019654583070972384</td>\n",
       "      <td>0.15101902909609613</td>\n",
       "      <td>0</td>\n",
       "      <td>4</td>\n",
       "    </tr>\n",
       "    <tr>\n",
       "      <th>SERIOUSINJURY</th>\n",
       "      <td>66702</td>\n",
       "      <td>0.33946508350574195</td>\n",
       "      <td>0.594907652857355</td>\n",
       "      <td>0</td>\n",
       "      <td>17</td>\n",
       "    </tr>\n",
       "    <tr>\n",
       "      <th>OTHERINJURY</th>\n",
       "      <td>66702</td>\n",
       "      <td>0.9134058948757159</td>\n",
       "      <td>0.764674017252065</td>\n",
       "      <td>0</td>\n",
       "      <td>23</td>\n",
       "    </tr>\n",
       "    <tr>\n",
       "      <th>NONINJURED</th>\n",
       "      <td>66702</td>\n",
       "      <td>1.141509999700159</td>\n",
       "      <td>1.3790104954893991</td>\n",
       "      <td>0</td>\n",
       "      <td>87</td>\n",
       "    </tr>\n",
       "    <tr>\n",
       "      <th>MALES</th>\n",
       "      <td>66702</td>\n",
       "      <td>1.3236784504212766</td>\n",
       "      <td>1.0193976459053773</td>\n",
       "      <td>0</td>\n",
       "      <td>46</td>\n",
       "    </tr>\n",
       "    <tr>\n",
       "      <th>FEMALES</th>\n",
       "      <td>66702</td>\n",
       "      <td>0.9739588018350275</td>\n",
       "      <td>1.0949151083294848</td>\n",
       "      <td>0</td>\n",
       "      <td>51</td>\n",
       "    </tr>\n",
       "    <tr>\n",
       "      <th>BICYCLIST</th>\n",
       "      <td>66702</td>\n",
       "      <td>0.10680339420107343</td>\n",
       "      <td>0.32035002398107115</td>\n",
       "      <td>0</td>\n",
       "      <td>8</td>\n",
       "    </tr>\n",
       "    <tr>\n",
       "      <th>PASSENGER</th>\n",
       "      <td>66702</td>\n",
       "      <td>0.5283049983508741</td>\n",
       "      <td>1.2645700244403801</td>\n",
       "      <td>0</td>\n",
       "      <td>95</td>\n",
       "    </tr>\n",
       "    <tr>\n",
       "      <th>DRIVER</th>\n",
       "      <td>66702</td>\n",
       "      <td>1.477736799496267</td>\n",
       "      <td>0.8776559081233681</td>\n",
       "      <td>0</td>\n",
       "      <td>12</td>\n",
       "    </tr>\n",
       "    <tr>\n",
       "      <th>PEDESTRIAN</th>\n",
       "      <td>66702</td>\n",
       "      <td>0.10301040448562263</td>\n",
       "      <td>0.33283806926763526</td>\n",
       "      <td>0</td>\n",
       "      <td>9</td>\n",
       "    </tr>\n",
       "    <tr>\n",
       "      <th>PILLION</th>\n",
       "      <td>66702</td>\n",
       "      <td>0.005607028275014242</td>\n",
       "      <td>0.07566766739826249</td>\n",
       "      <td>0</td>\n",
       "      <td>2</td>\n",
       "    </tr>\n",
       "    <tr>\n",
       "      <th>MOTORIST</th>\n",
       "      <td>66702</td>\n",
       "      <td>0.14267937992863783</td>\n",
       "      <td>0.3582606655850842</td>\n",
       "      <td>0</td>\n",
       "      <td>5</td>\n",
       "    </tr>\n",
       "    <tr>\n",
       "      <th>UNKNOWN</th>\n",
       "      <td>66702</td>\n",
       "      <td>0.04984858025246619</td>\n",
       "      <td>0.35909941740170664</td>\n",
       "      <td>0</td>\n",
       "      <td>52</td>\n",
       "    </tr>\n",
       "    <tr>\n",
       "      <th>PED_CYCLIST_5_12</th>\n",
       "      <td>66702</td>\n",
       "      <td>0.009594914695211537</td>\n",
       "      <td>0.10531940157495515</td>\n",
       "      <td>0</td>\n",
       "      <td>8</td>\n",
       "    </tr>\n",
       "    <tr>\n",
       "      <th>PED_CYCLIST_13_18</th>\n",
       "      <td>66702</td>\n",
       "      <td>0.017000989475577943</td>\n",
       "      <td>0.13394615805909532</td>\n",
       "      <td>0</td>\n",
       "      <td>3</td>\n",
       "    </tr>\n",
       "    <tr>\n",
       "      <th>OLD_PEDESTRIAN</th>\n",
       "      <td>66702</td>\n",
       "      <td>0.0198344877215076</td>\n",
       "      <td>0.14251640068801597</td>\n",
       "      <td>0</td>\n",
       "      <td>3</td>\n",
       "    </tr>\n",
       "    <tr>\n",
       "      <th>OLD_DRIVER</th>\n",
       "      <td>66702</td>\n",
       "      <td>0.06899343348025547</td>\n",
       "      <td>0.2597549515984147</td>\n",
       "      <td>0</td>\n",
       "      <td>3</td>\n",
       "    </tr>\n",
       "    <tr>\n",
       "      <th>YOUNG_DRIVER</th>\n",
       "      <td>66702</td>\n",
       "      <td>0.30373901832029027</td>\n",
       "      <td>0.5204365690532559</td>\n",
       "      <td>0</td>\n",
       "      <td>5</td>\n",
       "    </tr>\n",
       "    <tr>\n",
       "      <th>UNLICENCSED</th>\n",
       "      <td>66702</td>\n",
       "      <td>0.0</td>\n",
       "      <td>0.0</td>\n",
       "      <td>0</td>\n",
       "      <td>0</td>\n",
       "    </tr>\n",
       "    <tr>\n",
       "      <th>NO_OF_VEHICLES</th>\n",
       "      <td>66702</td>\n",
       "      <td>1.8162873676951217</td>\n",
       "      <td>0.7493947964105322</td>\n",
       "      <td>1</td>\n",
       "      <td>14</td>\n",
       "    </tr>\n",
       "    <tr>\n",
       "      <th>HEAVYVEHICLE</th>\n",
       "      <td>66702</td>\n",
       "      <td>0.0481544781265929</td>\n",
       "      <td>0.22648068591118067</td>\n",
       "      <td>0</td>\n",
       "      <td>4</td>\n",
       "    </tr>\n",
       "    <tr>\n",
       "      <th>PASSENGERVEHICLE</th>\n",
       "      <td>66702</td>\n",
       "      <td>1.4427453449671674</td>\n",
       "      <td>0.9019887313573399</td>\n",
       "      <td>0</td>\n",
       "      <td>13</td>\n",
       "    </tr>\n",
       "    <tr>\n",
       "      <th>MOTORCYCLE</th>\n",
       "      <td>66702</td>\n",
       "      <td>0.14293424485022937</td>\n",
       "      <td>0.3587655036515692</td>\n",
       "      <td>0</td>\n",
       "      <td>5</td>\n",
       "    </tr>\n",
       "    <tr>\n",
       "      <th>PUBLICVEHICLE</th>\n",
       "      <td>66702</td>\n",
       "      <td>0.012803214296422895</td>\n",
       "      <td>0.11335507662898514</td>\n",
       "      <td>0</td>\n",
       "      <td>2</td>\n",
       "    </tr>\n",
       "  </tbody>\n",
       "</table>\n",
       "</div>"
      ],
      "text/plain": [
       "                       0                     1                    2        3  \\\n",
       "summary            count                  mean               stddev      min   \n",
       "OBJECTID           66702    3438996.8031993043   21684.155329872086  3401744   \n",
       "NODE_ID            66702    202288.44069143353   125959.62425479155        4   \n",
       "TOTAL_PERSONS      66702     2.414035561152589   1.5665646569261693        1   \n",
       "INJ_OR_FATAL       66702    1.2725255614524302   0.7066139780333256        0   \n",
       "FATALITY           66702  0.019654583070972384  0.15101902909609613        0   \n",
       "SERIOUSINJURY      66702   0.33946508350574195    0.594907652857355        0   \n",
       "OTHERINJURY        66702    0.9134058948757159    0.764674017252065        0   \n",
       "NONINJURED         66702     1.141509999700159   1.3790104954893991        0   \n",
       "MALES              66702    1.3236784504212766   1.0193976459053773        0   \n",
       "FEMALES            66702    0.9739588018350275   1.0949151083294848        0   \n",
       "BICYCLIST          66702   0.10680339420107343  0.32035002398107115        0   \n",
       "PASSENGER          66702    0.5283049983508741   1.2645700244403801        0   \n",
       "DRIVER             66702     1.477736799496267   0.8776559081233681        0   \n",
       "PEDESTRIAN         66702   0.10301040448562263  0.33283806926763526        0   \n",
       "PILLION            66702  0.005607028275014242  0.07566766739826249        0   \n",
       "MOTORIST           66702   0.14267937992863783   0.3582606655850842        0   \n",
       "UNKNOWN            66702   0.04984858025246619  0.35909941740170664        0   \n",
       "PED_CYCLIST_5_12   66702  0.009594914695211537  0.10531940157495515        0   \n",
       "PED_CYCLIST_13_18  66702  0.017000989475577943  0.13394615805909532        0   \n",
       "OLD_PEDESTRIAN     66702    0.0198344877215076  0.14251640068801597        0   \n",
       "OLD_DRIVER         66702   0.06899343348025547   0.2597549515984147        0   \n",
       "YOUNG_DRIVER       66702   0.30373901832029027   0.5204365690532559        0   \n",
       "UNLICENCSED        66702                   0.0                  0.0        0   \n",
       "NO_OF_VEHICLES     66702    1.8162873676951217   0.7493947964105322        1   \n",
       "HEAVYVEHICLE       66702    0.0481544781265929  0.22648068591118067        0   \n",
       "PASSENGERVEHICLE   66702    1.4427453449671674   0.9019887313573399        0   \n",
       "MOTORCYCLE         66702   0.14293424485022937   0.3587655036515692        0   \n",
       "PUBLICVEHICLE      66702  0.012803214296422895  0.11335507662898514        0   \n",
       "\n",
       "                         4  \n",
       "summary                max  \n",
       "OBJECTID           3476651  \n",
       "NODE_ID             343479  \n",
       "TOTAL_PERSONS           97  \n",
       "INJ_OR_FATAL            23  \n",
       "FATALITY                 4  \n",
       "SERIOUSINJURY           17  \n",
       "OTHERINJURY             23  \n",
       "NONINJURED              87  \n",
       "MALES                   46  \n",
       "FEMALES                 51  \n",
       "BICYCLIST                8  \n",
       "PASSENGER               95  \n",
       "DRIVER                  12  \n",
       "PEDESTRIAN               9  \n",
       "PILLION                  2  \n",
       "MOTORIST                 5  \n",
       "UNKNOWN                 52  \n",
       "PED_CYCLIST_5_12         8  \n",
       "PED_CYCLIST_13_18        3  \n",
       "OLD_PEDESTRIAN           3  \n",
       "OLD_DRIVER               3  \n",
       "YOUNG_DRIVER             5  \n",
       "UNLICENCSED              0  \n",
       "NO_OF_VEHICLES          14  \n",
       "HEAVYVEHICLE             4  \n",
       "PASSENGERVEHICLE        13  \n",
       "MOTORCYCLE               5  \n",
       "PUBLICVEHICLE            2  "
      ]
     },
     "execution_count": 8,
     "metadata": {},
     "output_type": "execute_result"
    }
   ],
   "source": [
    "# compute count, mean, standard dev, min and max values of all numeric attributes\n",
    "numeric_features = [t[0] for t in data.dtypes if t[1] == 'int']\n",
    "data.select(numeric_features).describe().toPandas().transpose()"
   ]
  },
  {
   "cell_type": "markdown",
   "metadata": {},
   "source": [
    "# Quantitative analysis of different accident types and severity level"
   ]
  },
  {
   "cell_type": "code",
   "execution_count": null,
   "metadata": {},
   "outputs": [
    {
     "data": {
      "text/html": [
       "<div>\n",
       "<style scoped>\n",
       "    .dataframe tbody tr th:only-of-type {\n",
       "        vertical-align: middle;\n",
       "    }\n",
       "\n",
       "    .dataframe tbody tr th {\n",
       "        vertical-align: top;\n",
       "    }\n",
       "\n",
       "    .dataframe thead th {\n",
       "        text-align: right;\n",
       "    }\n",
       "</style>\n",
       "<table border=\"1\" class=\"dataframe\">\n",
       "  <thead>\n",
       "    <tr style=\"text-align: right;\">\n",
       "      <th></th>\n",
       "      <th>ACCIDENT_TYPE</th>\n",
       "      <th>count</th>\n",
       "    </tr>\n",
       "  </thead>\n",
       "  <tbody>\n",
       "    <tr>\n",
       "      <th>0</th>\n",
       "      <td>Collision with vehicle</td>\n",
       "      <td>42579</td>\n",
       "    </tr>\n",
       "    <tr>\n",
       "      <th>1</th>\n",
       "      <td>collision with some other object</td>\n",
       "      <td>535</td>\n",
       "    </tr>\n",
       "    <tr>\n",
       "      <th>2</th>\n",
       "      <td>Struck animal</td>\n",
       "      <td>678</td>\n",
       "    </tr>\n",
       "    <tr>\n",
       "      <th>3</th>\n",
       "      <td>Vehicle overturned (no collision)</td>\n",
       "      <td>3124</td>\n",
       "    </tr>\n",
       "    <tr>\n",
       "      <th>4</th>\n",
       "      <td>Collision with a fixed object</td>\n",
       "      <td>10507</td>\n",
       "    </tr>\n",
       "    <tr>\n",
       "      <th>5</th>\n",
       "      <td>Struck Pedestrian</td>\n",
       "      <td>6022</td>\n",
       "    </tr>\n",
       "    <tr>\n",
       "      <th>6</th>\n",
       "      <td>Other accident</td>\n",
       "      <td>51</td>\n",
       "    </tr>\n",
       "    <tr>\n",
       "      <th>7</th>\n",
       "      <td>Fall from or in moving vehicle</td>\n",
       "      <td>309</td>\n",
       "    </tr>\n",
       "    <tr>\n",
       "      <th>8</th>\n",
       "      <td>No collision and no object struck</td>\n",
       "      <td>2897</td>\n",
       "    </tr>\n",
       "  </tbody>\n",
       "</table>\n",
       "</div>"
      ],
      "text/plain": [
       "                       ACCIDENT_TYPE  count\n",
       "0             Collision with vehicle  42579\n",
       "1   collision with some other object    535\n",
       "2                      Struck animal    678\n",
       "3  Vehicle overturned (no collision)   3124\n",
       "4      Collision with a fixed object  10507\n",
       "5                  Struck Pedestrian   6022\n",
       "6                     Other accident     51\n",
       "7     Fall from or in moving vehicle    309\n",
       "8  No collision and no object struck   2897"
      ]
     },
     "execution_count": 9,
     "metadata": {},
     "output_type": "execute_result"
    }
   ],
   "source": [
    "data.groupby('ACCIDENT_TYPE').count().toPandas()"
   ]
  },
  {
   "cell_type": "markdown",
   "metadata": {},
   "source": [
    "  The most common accident type is \"Collision with vehicle\""
   ]
  },
  {
   "cell_type": "code",
   "execution_count": null,
   "metadata": {},
   "outputs": [],
   "source": [
    "data.groupby('SEVERITY').count().toPandas()"
   ]
  },
  {
   "cell_type": "markdown",
   "metadata": {},
   "source": [
    "# The trend of accidents in recent years"
   ]
  },
  {
   "cell_type": "code",
   "execution_count": null,
   "metadata": {},
   "outputs": [],
   "source": [
    "# Orders by year\n",
    "# ACCIDENT_DATE original format (1/7/2013)\n",
    "year_results = spark.sql(\" \\\n",
    "    select \\\n",
    "        substr(ACCIDENT_DATE, length(ACCIDENT_DATE) - (LOCATE('/', REVERSE(ACCIDENT_DATE)) - 1) + 1, 4) as year, \\\n",
    "        count(OBJECTID) as total \\\n",
    "        from data \\\n",
    "    group by year \\\n",
    "    order by year desc\")\n",
    "\n",
    "df_pandas = year_results.toPandas()\n",
    "df_pandas.plot(kind='barh',x='year',y='total')"
   ]
  },
  {
   "cell_type": "markdown",
   "metadata": {},
   "source": [
    "# the relationship between accidents frequency and weekly time session"
   ]
  },
  {
   "cell_type": "code",
   "execution_count": null,
   "metadata": {},
   "outputs": [],
   "source": [
    "# Orders by Day of Week\n",
    "week_results = spark.sql(\"select count(OBJECTID) as total_accidents, DAY_OF_WEEK as day_of_week \\\n",
    "    from data \\\n",
    "    group by day_of_week \\\n",
    "    order by total_accidents desc\")\n",
    "\n",
    "df_pandas = week_results.toPandas()\n",
    "df_pandas.plot(kind='barh',x='day_of_week',y='total_accidents')"
   ]
  },
  {
   "cell_type": "markdown",
   "metadata": {},
   "source": [
    "  There is no significant difference in the incidence of car accidents in a weekly cycle. And the frequency of car accidents on weekends can be relatively smaller compared to the other days."
   ]
  },
  {
   "cell_type": "markdown",
   "metadata": {},
   "source": [
    "# the relationship between accidents frequency and daily time session"
   ]
  },
  {
   "cell_type": "code",
   "execution_count": null,
   "metadata": {},
   "outputs": [],
   "source": [
    "# time session divided in 24 hours, listed from 0 to 23\n",
    "# ACCIDENT_TIME format (18.30.00)\n",
    "# Orders by accidents frequency\n",
    "hour_results = spark.sql(\" \\\n",
    "    select \\\n",
    "        substr(ACCIDENT_TIME, 0, (LOCATE('.', ACCIDENT_TIME) - 1)) as time_session, \\\n",
    "        count(OBJECTID) as total \\\n",
    "        from data \\\n",
    "    group by time_session \\\n",
    "    order by count(OBJECTID)\")\n",
    "\n",
    "df_pandas = hour_results.toPandas()\n",
    "df_pandas.plot(kind='barh',x='time_session',y='total')\n"
   ]
  },
  {
   "cell_type": "markdown",
   "metadata": {},
   "source": [
    "The three hours during 15:00 and 18:00 is the most likely time period for a car accident."
   ]
  },
  {
   "cell_type": "markdown",
   "metadata": {},
   "source": [
    "# the relationship between accidents frequency and light condition"
   ]
  },
  {
   "cell_type": "code",
   "execution_count": null,
   "metadata": {},
   "outputs": [],
   "source": [
    "# Orders by accidents frequency\n",
    "speed_results = spark.sql(\" \\\n",
    "    select \\\n",
    "        SPEED_ZONE, \\\n",
    "        count(OBJECTID) as total \\\n",
    "        from data \\\n",
    "    group by SPEED_ZONE \\\n",
    "    order by total\")\n",
    "\n",
    "df_pandas = speed_results.toPandas()\n",
    "df_pandas.plot(kind='barh',x='SPEED_ZONE',y='total')"
   ]
  },
  {
   "cell_type": "markdown",
   "metadata": {},
   "source": [
    "  The most common area for car accidents is not the highway section, but the section where the speed limit is 60km/h."
   ]
  },
  {
   "cell_type": "markdown",
   "metadata": {},
   "source": [
    "# the relationship between accidents frequency and light condition"
   ]
  },
  {
   "cell_type": "code",
   "execution_count": null,
   "metadata": {},
   "outputs": [],
   "source": [
    "# Orders by accidents frequency\n",
    "speed_results = spark.sql(\" \\\n",
    "    select \\\n",
    "        LIGHT_CONDITION, \\\n",
    "        count(OBJECTID) as total \\\n",
    "        from data \\\n",
    "    group by LIGHT_CONDITION \\\n",
    "    order by total\")\n",
    "\n",
    "df_pandas = speed_results.toPandas()\n",
    "df_pandas.plot(kind='barh',x='LIGHT_CONDITION',y='total')"
   ]
  },
  {
   "cell_type": "code",
   "execution_count": null,
   "metadata": {},
   "outputs": [],
   "source": [
    "  Most car accidents happen during the day."
   ]
  },
  {
   "cell_type": "markdown",
   "metadata": {},
   "source": [
    "# the relationship between accidents frequency and road geometry"
   ]
  },
  {
   "cell_type": "code",
   "execution_count": null,
   "metadata": {},
   "outputs": [],
   "source": [
    "data.groupby('ROAD_GEOMETRY').count().toPandas()"
   ]
  },
  {
   "cell_type": "code",
   "execution_count": null,
   "metadata": {},
   "outputs": [],
   "source": [
    "geometry_results = spark.sql(\"select count(OBJECTID) as count, ROAD_GEOMETRY \\\n",
    "    from data\\\n",
    "    group by ROAD_GEOMETRY \\\n",
    "    order by count desc\")\n",
    "\n",
    "df_pandas = geometry_results.toPandas()\n",
    "df_pandas.plot(kind='barh',x='ROAD_GEOMETRY',y='count')"
   ]
  },
  {
   "cell_type": "markdown",
   "metadata": {},
   "source": [
    "  Whether it is an intersection or an ordinary road without an intersection, the frequencies of car accidents are both very high."
   ]
  },
  {
   "cell_type": "markdown",
   "metadata": {},
   "source": [
    "# accidents frequency distribution and intersection type"
   ]
  },
  {
   "cell_type": "code",
   "execution_count": null,
   "metadata": {},
   "outputs": [],
   "source": [
    "# the relationship between accidents frequency and interaction type\n",
    "week_results = spark.sql(\"select count(OBJECTID) as count, ROAD_GEOMETRY \\\n",
    "    from (select * from data where NODE_TYPE = 'Intersection')\\\n",
    "    group by ROAD_GEOMETRY \\\n",
    "    order by count desc\")\n",
    "\n",
    "df_pandas = week_results.toPandas()\n",
    "df_pandas.plot(kind='pie', y='count', labels=df_pandas['ROAD_GEOMETRY'], legend = False)"
   ]
  },
  {
   "cell_type": "markdown",
   "metadata": {},
   "source": [
    "  Cross intersection and T intersection are the two types of intersections where a crashing accident mostly likely to happen."
   ]
  },
  {
   "cell_type": "markdown",
   "metadata": {},
   "source": [
    "# The relationship between whether alcohol involved and accident severity"
   ]
  },
  {
   "cell_type": "code",
   "execution_count": null,
   "metadata": {},
   "outputs": [],
   "source": [
    "data.groupby('ALCOHOL_RELATED').count().toPandas()"
   ]
  },
  {
   "cell_type": "code",
   "execution_count": null,
   "metadata": {},
   "outputs": [],
   "source": [
    "# Severity disribution in alcohol-related accidents\n",
    "severity_light = spark.sql(\" select count(*) as num, SEVERITY\\\n",
    "    from (select * from data where ALCOHOL_RELATED = 'Yes')\\\n",
    "    group by SEVERITY\")\n",
    "\n",
    "df_pandas = severity_light.toPandas()\n",
    "df_pandas.plot(kind='pie', y='num', labels=df_pandas['SEVERITY'], legend = False)\n"
   ]
  },
  {
   "cell_type": "code",
   "execution_count": null,
   "metadata": {},
   "outputs": [],
   "source": [
    "# Severity disribution in not alcohol-related accidents\n",
    "severity_light = spark.sql(\" select count(*) as num, SEVERITY\\\n",
    "    from (select * from data where ALCOHOL_RELATED = 'No')\\\n",
    "    group by SEVERITY\")\n",
    "\n",
    "df_pandas = severity_light.toPandas()\n",
    "df_pandas.plot(kind='pie', y='num', labels=df_pandas['SEVERITY'], legend = False)"
   ]
  },
  {
   "cell_type": "markdown",
   "metadata": {},
   "source": [
    "  Car accidents involving alcohol are more likely to cause more serious casualties than those without alcohol."
   ]
  }
 ],
 "metadata": {
  "kernelspec": {
   "display_name": "Python 3",
   "language": "python",
   "name": "python3"
  },
  "language_info": {
   "codemirror_mode": {
    "name": "ipython",
    "version": 3
   },
   "file_extension": ".py",
   "mimetype": "text/x-python",
   "name": "python",
   "nbconvert_exporter": "python",
   "pygments_lexer": "ipython3",
   "version": "3.8.5"
  }
 },
 "nbformat": 4,
 "nbformat_minor": 4
}
